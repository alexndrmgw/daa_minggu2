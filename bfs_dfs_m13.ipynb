{
  "nbformat": 4,
  "nbformat_minor": 0,
  "metadata": {
    "colab": {
      "name": "bfs_dfs_m13.ipynb",
      "provenance": [],
      "authorship_tag": "ABX9TyPualGwUaL+xHbd+PRVRbve",
      "include_colab_link": true
    },
    "kernelspec": {
      "name": "python3",
      "display_name": "Python 3"
    }
  },
  "cells": [
    {
      "cell_type": "markdown",
      "metadata": {
        "id": "view-in-github",
        "colab_type": "text"
      },
      "source": [
        "<a href=\"https://colab.research.google.com/github/alexndrmgw/desain_analisis_algo/blob/master/bfs_dfs_m13.ipynb\" target=\"_parent\"><img src=\"https://colab.research.google.com/assets/colab-badge.svg\" alt=\"Open In Colab\"/></a>"
      ]
    },
    {
      "cell_type": "markdown",
      "metadata": {
        "id": "khmyuwIWBGZA"
      },
      "source": [
        "##Algoritma BFS"
      ]
    },
    {
      "cell_type": "code",
      "metadata": {
        "id": "G4MDIYnj-9ST"
      },
      "source": [
        "graph = { 'Amin' : {'Wasim','Nick','Mike'},\r\n",
        "          'Wasim' : {'Imran','Amin'},\r\n",
        "          'Imran' : {'Wasim','Faras'},\r\n",
        "          'Faras' : {'Imran'},\r\n",
        "          'Mike' : {'Amin'},\r\n",
        "          'Nick' : {'Amin'}}"
      ],
      "execution_count": null,
      "outputs": []
    },
    {
      "cell_type": "code",
      "metadata": {
        "id": "UN6Huuc5BHyU"
      },
      "source": [
        "def bfs(graph, start): \r\n",
        "  visited = []\r\n",
        "  queue = [start]\r\n",
        "\r\n",
        "  while queue:\r\n",
        "    node = queue.pop(0)\r\n",
        "    if node not in visited:\r\n",
        "      visited.append(node)\r\n",
        "      neighbours = graph[node]\r\n",
        "      for neighbour in neighbours: \r\n",
        "        queue.append(neighbour)\r\n",
        "  return visited"
      ],
      "execution_count": null,
      "outputs": []
    },
    {
      "cell_type": "code",
      "metadata": {
        "colab": {
          "base_uri": "https://localhost:8080/"
        },
        "id": "jpkJqg5eDvo5",
        "outputId": "a6dea801-6a95-4a0b-808e-47d1a5da3705"
      },
      "source": [
        "# o  amin   ----------------\r\n",
        "# |               |         |\r\n",
        "# o  wasim      nick      mike\r\n",
        "# |\r\n",
        "# o  imran\r\n",
        "# |\r\n",
        "# o  faras\r\n",
        "\r\n",
        "bfs(graph, 'Amin')"
      ],
      "execution_count": null,
      "outputs": [
        {
          "output_type": "execute_result",
          "data": {
            "text/plain": [
              "['Amin', 'Mike', 'Wasim', 'Nick', 'Imran', 'Faras']"
            ]
          },
          "metadata": {
            "tags": []
          },
          "execution_count": 15
        }
      ]
    },
    {
      "cell_type": "code",
      "metadata": {
        "colab": {
          "base_uri": "https://localhost:8080/"
        },
        "id": "U9QR6oIuE7lT",
        "outputId": "7560ed94-392a-4726-f1a0-b9bb41d5332f"
      },
      "source": [
        "# o  wasim  ------    \r\n",
        "# |              |\r\n",
        "# o  imran       o amin -----\r\n",
        "# |              |          |\r\n",
        "# o  faras       o nick     o mike\r\n",
        "\r\n",
        "bfs(graph, 'Wasim')"
      ],
      "execution_count": null,
      "outputs": [
        {
          "output_type": "execute_result",
          "data": {
            "text/plain": [
              "['Wasim', 'Imran', 'Amin', 'Faras', 'Mike', 'Nick']"
            ]
          },
          "metadata": {
            "tags": []
          },
          "execution_count": 16
        }
      ]
    },
    {
      "cell_type": "code",
      "metadata": {
        "colab": {
          "base_uri": "https://localhost:8080/"
        },
        "id": "qkAN_32GFW79",
        "outputId": "fbd5db85-6e76-4d2c-933f-f31a951361a6"
      },
      "source": [
        "# o  faras      \r\n",
        "# |              \r\n",
        "# o  imran       \r\n",
        "# |              \r\n",
        "# o  wasim       o nick     o mike\r\n",
        "# |              |          |\r\n",
        "# o  amin  ------------------\r\n",
        "\r\n",
        "bfs(graph, 'Faras')"
      ],
      "execution_count": null,
      "outputs": [
        {
          "output_type": "execute_result",
          "data": {
            "text/plain": [
              "['Faras', 'Imran', 'Wasim', 'Amin', 'Mike', 'Nick']"
            ]
          },
          "metadata": {
            "tags": []
          },
          "execution_count": 17
        }
      ]
    },
    {
      "cell_type": "markdown",
      "metadata": {
        "id": "pHwOFP8CF5Tl"
      },
      "source": [
        "##Algoritma DFS"
      ]
    },
    {
      "cell_type": "code",
      "metadata": {
        "id": "eZmfYk28F8Kf"
      },
      "source": [
        "def dfs(graph, start ,visited=None):\r\n",
        "  if visited is None:\r\n",
        "    visited = set()\r\n",
        "  visited.add(start)\r\n",
        "  print(start)\r\n",
        "  for next in graph[start] - visited:\r\n",
        "    dfs(graph, next, visited)\r\n",
        "  return visited"
      ],
      "execution_count": null,
      "outputs": []
    },
    {
      "cell_type": "code",
      "metadata": {
        "id": "RPVH0i6uG34B"
      },
      "source": [
        "graph = { 'Amin' : {'Wasim','Nick','Mike'},\r\n",
        "          'Wasim' : {'Imran','Amin'},\r\n",
        "          'Imran' : {'Wasim','Faras'},\r\n",
        "          'Faras' : {'Imran'},\r\n",
        "          'Mike' : {'Amin'},\r\n",
        "          'Nick' : {'Amin'}}"
      ],
      "execution_count": null,
      "outputs": []
    },
    {
      "cell_type": "code",
      "metadata": {
        "colab": {
          "base_uri": "https://localhost:8080/"
        },
        "id": "Of9f9hHzG92v",
        "outputId": "341c125b-6f60-4fe6-b27a-e3fdd650a23e"
      },
      "source": [
        "# o  amin   ----------------\r\n",
        "# |               |         |\r\n",
        "# o  wasim      nick      mike\r\n",
        "# |\r\n",
        "# o  imran\r\n",
        "# |\r\n",
        "# o  faras\r\n",
        "#\r\n",
        "# turun dari amin ke faras, geser ke nick & mike\r\n",
        "\r\n",
        "dfs(graph, 'Amin')"
      ],
      "execution_count": null,
      "outputs": [
        {
          "output_type": "stream",
          "text": [
            "Amin\n",
            "Mike\n",
            "Wasim\n",
            "Imran\n",
            "Faras\n",
            "Nick\n"
          ],
          "name": "stdout"
        },
        {
          "output_type": "execute_result",
          "data": {
            "text/plain": [
              "{'Amin', 'Faras', 'Imran', 'Mike', 'Nick', 'Wasim'}"
            ]
          },
          "metadata": {
            "tags": []
          },
          "execution_count": 20
        }
      ]
    },
    {
      "cell_type": "code",
      "metadata": {
        "colab": {
          "base_uri": "https://localhost:8080/"
        },
        "id": "BjYIxI44HRbk",
        "outputId": "e58a1053-88b6-4110-d2ce-ded59db76b5c"
      },
      "source": [
        "# o  amin   ----------------\r\n",
        "# |               |         |\r\n",
        "# o  wasim      nick      mike\r\n",
        "# |\r\n",
        "# o  imran\r\n",
        "# |\r\n",
        "# o  faras\r\n",
        "#\r\n",
        "# turun dari wasim ke faras, naik ke amin, geser ke nick & mike\r\n",
        "\r\n",
        "dfs(graph, 'Wasim')"
      ],
      "execution_count": null,
      "outputs": [
        {
          "output_type": "stream",
          "text": [
            "Wasim\n",
            "Imran\n",
            "Faras\n",
            "Amin\n",
            "Mike\n",
            "Nick\n"
          ],
          "name": "stdout"
        },
        {
          "output_type": "execute_result",
          "data": {
            "text/plain": [
              "{'Amin', 'Faras', 'Imran', 'Mike', 'Nick', 'Wasim'}"
            ]
          },
          "metadata": {
            "tags": []
          },
          "execution_count": 21
        }
      ]
    },
    {
      "cell_type": "code",
      "metadata": {
        "colab": {
          "base_uri": "https://localhost:8080/"
        },
        "id": "x-BBZJzXHaUJ",
        "outputId": "6adbc29b-187a-4fe9-a819-e89af44c0f73"
      },
      "source": [
        "# o  amin   ----------------\r\n",
        "# |               |         |\r\n",
        "# o  wasim      nick      mike\r\n",
        "# |\r\n",
        "# o  imran\r\n",
        "# |\r\n",
        "# o  faras\r\n",
        "#\r\n",
        "# naik dari faras ke amin, geser ke nick & mike\r\n",
        "\r\n",
        "dfs(graph, 'Faras')"
      ],
      "execution_count": null,
      "outputs": [
        {
          "output_type": "stream",
          "text": [
            "Faras\n",
            "Imran\n",
            "Wasim\n",
            "Amin\n",
            "Mike\n",
            "Nick\n"
          ],
          "name": "stdout"
        },
        {
          "output_type": "execute_result",
          "data": {
            "text/plain": [
              "{'Amin', 'Faras', 'Imran', 'Mike', 'Nick', 'Wasim'}"
            ]
          },
          "metadata": {
            "tags": []
          },
          "execution_count": 23
        }
      ]
    },
    {
      "cell_type": "code",
      "metadata": {
        "colab": {
          "base_uri": "https://localhost:8080/"
        },
        "id": "iT1PBiLMHvRX",
        "outputId": "93883774-4499-4ceb-f202-4f94e6785b3b"
      },
      "source": [
        "# o  amin   ----------------\r\n",
        "# |               |         |\r\n",
        "# o  wasim      nick      mike\r\n",
        "# |\r\n",
        "# o  imran\r\n",
        "# |\r\n",
        "# o  faras\r\n",
        "#\r\n",
        "# naik dari nick ke amin, turun ke faras, geser ke  mike\r\n",
        "\r\n",
        "dfs(graph, 'Nick')"
      ],
      "execution_count": null,
      "outputs": [
        {
          "output_type": "stream",
          "text": [
            "Nick\n",
            "Amin\n",
            "Mike\n",
            "Wasim\n",
            "Imran\n",
            "Faras\n"
          ],
          "name": "stdout"
        },
        {
          "output_type": "execute_result",
          "data": {
            "text/plain": [
              "{'Amin', 'Faras', 'Imran', 'Mike', 'Nick', 'Wasim'}"
            ]
          },
          "metadata": {
            "tags": []
          },
          "execution_count": 24
        }
      ]
    }
  ]
}