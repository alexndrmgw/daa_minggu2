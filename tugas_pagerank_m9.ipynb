{
  "nbformat": 4,
  "nbformat_minor": 0,
  "metadata": {
    "colab": {
      "name": "Untitled1.ipynb",
      "provenance": [],
      "authorship_tag": "ABX9TyNcRB9a4ZaDk+9QuyNNgzSO",
      "include_colab_link": true
    },
    "kernelspec": {
      "name": "python3",
      "display_name": "Python 3"
    }
  },
  "cells": [
    {
      "cell_type": "markdown",
      "metadata": {
        "id": "view-in-github",
        "colab_type": "text"
      },
      "source": [
        "<a href=\"https://colab.research.google.com/github/alexndrmgw/desain_analisis_algo/blob/master/tugas_pagerank_m9.ipynb\" target=\"_parent\"><img src=\"https://colab.research.google.com/assets/colab-badge.svg\" alt=\"Open In Colab\"/></a>"
      ]
    },
    {
      "cell_type": "code",
      "metadata": {
        "id": "YWFeQtcmG9SV"
      },
      "source": [
        "import numpy as np\n",
        "import networkx as nx\n",
        "import matplotlib.pyplot as plt\n",
        "%matplotlib inline"
      ],
      "execution_count": 50,
      "outputs": []
    },
    {
      "cell_type": "code",
      "metadata": {
        "id": "5xEhCCQmHK8t"
      },
      "source": [
        "myWeb = nx.DiGraph()\n",
        "myPages = range(1,8)"
      ],
      "execution_count": 51,
      "outputs": []
    },
    {
      "cell_type": "code",
      "metadata": {
        "id": "szf4wqImHmo2"
      },
      "source": [
        "connections = [(1,3),(3,5),(5,7),(7,8),(7,1),(8,1),(1,2),(2,3),(3,4),(4,5),(5,6),(6,7),(7,8)]\n",
        "myWeb.add_nodes_from(myPages)\n",
        "myWeb.add_edges_from(connections) "
      ],
      "execution_count": 52,
      "outputs": []
    },
    {
      "cell_type": "code",
      "metadata": {
        "id": "qF48MkkIIlgf",
        "outputId": "e5e64cbf-3eeb-4ec0-e2d0-a437aee33d9a",
        "colab": {
          "base_uri": "https://localhost:8080/",
          "height": 336
        }
      },
      "source": [
        "pos=nx.shell_layout(myWeb)\n",
        "nx.draw(myWeb,pos,arrows=True, with_labels=True)\n",
        "plt.show()"
      ],
      "execution_count": 53,
      "outputs": [
        {
          "output_type": "display_data",
          "data": {
            "image/png": "[encoded data removed]",
            "text/plain": [
              "<Figure size 432x288 with 1 Axes>"
            ]
          },
          "metadata": {
            "tags": []
          }
        }
      ]
    },
    {
      "cell_type": "code",
      "metadata": {
        "id": "0Aj2d7CMK67F"
      },
      "source": [
        "def createPageRank(aGraph):\n",
        "  nodes_set = len(aGraph)\n",
        "  M = nx.to_numpy_matrix(aGraph)\n",
        "  outwards = np.squeeze(np.asarray(np.sum(M, axis=1)))\n",
        "  prob_outwards = np.array(\n",
        "      [1.0/count\n",
        "      if count > 0 else 0.0 for count in outwards])\n",
        "  G = np.asarray(np.multiply(M.T, prob_outwards))\n",
        "  p = np.ones(nodes_set)/float(nodes_set)\n",
        "  if np.min(np.sum(G,axis=0)) < 1.0:\n",
        "    print('WARN : Gis subtochastic')\n",
        "  return G,p\n"
      ],
      "execution_count": 54,
      "outputs": []
    },
    {
      "cell_type": "code",
      "metadata": {
        "id": "TVuZA-R1MkLm",
        "outputId": "ddfc7426-49d7-41af-e8d3-5461fd66611b",
        "colab": {
          "base_uri": "https://localhost:8080/"
        }
      },
      "source": [
        "G,p = createPageRank(myWeb)\n",
        "print(G)"
      ],
      "execution_count": 55,
      "outputs": [
        {
          "output_type": "stream",
          "text": [
            "[[0.  0.  0.  0.  0.  0.  0.5 1. ]\n",
            " [0.5 0.  0.  0.  0.  0.  0.  0. ]\n",
            " [0.5 1.  0.  0.  0.  0.  0.  0. ]\n",
            " [0.  0.  0.5 0.  0.  0.  0.  0. ]\n",
            " [0.  0.  0.5 1.  0.  0.  0.  0. ]\n",
            " [0.  0.  0.  0.  0.5 0.  0.  0. ]\n",
            " [0.  0.  0.  0.  0.5 1.  0.  0. ]\n",
            " [0.  0.  0.  0.  0.  0.  0.5 0. ]]\n"
          ],
          "name": "stdout"
        }
      ]
    },
    {
      "cell_type": "code",
      "metadata": {
        "id": "IK9xLh23NEX1"
      },
      "source": [
        ""
      ],
      "execution_count": null,
      "outputs": []
    }
  ]
}