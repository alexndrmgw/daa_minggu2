{
  "nbformat": 4,
  "nbformat_minor": 0,
  "metadata": {
    "colab": {
      "name": "coding_uas.ipynb",
      "provenance": [],
      "collapsed_sections": [],
      "authorship_tag": "ABX9TyNMedPjtMmRH8rhCe5a0dvk",
      "include_colab_link": true
    },
    "kernelspec": {
      "name": "python3",
      "display_name": "Python 3"
    }
  },
  "cells": [
    {
      "cell_type": "markdown",
      "metadata": {
        "id": "view-in-github",
        "colab_type": "text"
      },
      "source": [
        "<a href=\"https://colab.research.google.com/github/alexndrmgw/desain_analisis_algo/blob/master/coding_uas_graph.ipynb\" target=\"_parent\"><img src=\"https://colab.research.google.com/assets/colab-badge.svg\" alt=\"Open In Colab\"/></a>"
      ]
    },
    {
      "cell_type": "markdown",
      "metadata": {
        "id": "LgHmDVZKgb0Q"
      },
      "source": [
        "##Membuat Graph"
      ]
    },
    {
      "cell_type": "code",
      "metadata": {
        "id": "duUwpWoVMbsu"
      },
      "source": [
        "# Dir.Utama -----------|                       Managing Director                        |\n",
        "#                      ------------------------------------------------------------------\n",
        "#                       |             |                |                |               |\n",
        "#                       |             |                |                |               |\n",
        "#               Dir.Operasional   Dir.Teknik      Dir. Keuangan     Dir.Pemasaran     Dir.Personalia\n",
        "#               |          |      |       |       |         |           |               |\n",
        "#               |          |      |       |       |         |           |               |\n",
        "#           Mnj.Cost   Mnj.      Mnj.     Mnj.    Mnj       Mnj.        Mnj.          Mnj.\n",
        "#           Control  Konstruksi Logistik Estimate Keuangan  Pembukuan  Pemasaran      Umum dan Personalia\n",
        "#\n",
        "#"
      ],
      "execution_count": null,
      "outputs": []
    },
    {
      "cell_type": "code",
      "metadata": {
        "colab": {
          "base_uri": "https://localhost:8080/"
        },
        "id": "kBao4liUXOlH",
        "outputId": "e9172102-f73f-4d2a-82c0-383f040db658"
      },
      "source": [
        "#create dictionary with graph elements\n",
        "graph = { \"Direktur Utama\" : [\"Managing Director\"],\n",
        "          \"Managing Director\" : [\"Direktur Utama\",\"Direktur Pemasasran\",\"Direktur Operasional\",\"Direktur Teknik\",\"Direktur Keuangan\",\"Direktur Personalia\"],\n",
        "          \"Direktur Pemasaran\" : [\"Managing Director\",\"Manajemen Pemasaran\"],\n",
        "          \"Direktur Operasional\" : [\"Managing Director\",\"Manajer Cost Control\",\"Manajer Konstruksi\"],\n",
        "          \"Direktur Teknik\" : [\"Managing Director\",\"Manajer Estimate\",\"Manajer Logistik\"],\n",
        "          \"Direktur Keuangan\" : [\"Managing Director\",\"Manajer Keuangan\",\"Manajer Pembukuan\"],\n",
        "          \"Direktur Personalia\" : [\"Managing Director\",\"Manajer Personalia dan Umum\"]\n",
        "        }\n",
        "        \n",
        "#print the graph\n",
        "print(graph)"
      ],
      "execution_count": null,
      "outputs": [
        {
          "output_type": "stream",
          "text": [
            "{'Direktur Utama': ['Managing Director'], 'Managing Director': ['Direktur Utama', 'Direktur Pemasasran', 'Direktur Operasional', 'Direktur Teknik', 'Direktur Keuangan', 'Direktur Personalia'], 'Direktur Pemasaran': ['Managing Director', 'Manajemen Pemasaran'], 'Direktur Operasional': ['Managing Director', 'Manajer Cost Control', 'Manajer Konstruksi'], 'Direktur Teknik': ['Managing Director', 'Manajer Estimate', 'Manajer Logistik'], 'Direktur Keuangan': ['Managing Director', 'Manajer Keuangan', 'Manajer Pembukuan'], 'Direktur Personalia': ['Managing Director', 'Manajer Personalia dan Umum']}\n"
          ],
          "name": "stdout"
        }
      ]
    },
    {
      "cell_type": "markdown",
      "metadata": {
        "id": "WihnQ4O9gklu"
      },
      "source": [
        "##Menampilkan Simpul pada Graph"
      ]
    },
    {
      "cell_type": "code",
      "metadata": {
        "colab": {
          "base_uri": "https://localhost:8080/"
        },
        "id": "6f8s-nYegnR3",
        "outputId": "560979e4-b507-40b0-dab2-b98d70f809d9"
      },
      "source": [
        "class graph :\n",
        "  def __init__(self,gdict=None):\n",
        "    if gdict is None:\n",
        "      gdict = []\n",
        "    self.gdict = gdict\n",
        "\n",
        "#get the key of the dictionary\n",
        "  def getVertices(self):\n",
        "    return list(self.gdict.keys())\n",
        "\n",
        "#create dictionary with graph elements\n",
        "graph_elements = { \"Direktur Utama\" : [\"Managing Director\"],\n",
        "                    \"Managing Director\" : [\"Direktur Utama\",\"Direktur Pemasasran\",\"Direktur Operasional\",\"Direktur Teknik\",\"Direktur Keuangan\",\"Direktur Personalia\"],\n",
        "                    \"Direktur Pemasaran\" : [\"Managing Director\",\"Manajemen Pemasaran\"],\n",
        "                    \"Direktur Operasional\" : [\"Managing Director\",\"Manajer Cost Control\",\"Manajer Konstruksi\"],\n",
        "                    \"Direktur Teknik\" : [\"Managing Director\",\"Manajer Estimate\",\"Manajer Logistik\"],\n",
        "                    \"Direktur Keuangan\" : [\"Managing Director\",\"Manajer Keuangan\",\"Manajer Pembukuan\"],\n",
        "                    \"Direktur Personalia\" : [\"Managing Director\",\"Manajer Personalia dan Umum\"]\n",
        "                  }\n",
        "              \n",
        "g = graph(graph_elements)\n",
        "print(g.getVertices())"
      ],
      "execution_count": null,
      "outputs": [
        {
          "output_type": "stream",
          "text": [
            "['Direktur Utama', 'Managing Director', 'Direktur Pemasaran', 'Direktur Operasional', 'Direktur Teknik', 'Direktur Keuangan', 'Direktur Personalia']\n"
          ],
          "name": "stdout"
        }
      ]
    },
    {
      "cell_type": "markdown",
      "metadata": {
        "id": "AAyo-tglg8rW"
      },
      "source": [
        "##Menampilkan sudut pada Graph"
      ]
    },
    {
      "cell_type": "code",
      "metadata": {
        "colab": {
          "base_uri": "https://localhost:8080/"
        },
        "id": "F5NULgo1hbUF",
        "outputId": "79b3a1d1-ffd9-4c0a-fb41-d6ec94cf09d5"
      },
      "source": [
        "class graph :\n",
        "  def __init__(self,gdict=None):\n",
        "    if gdict is None:\n",
        "      gdict = {}\n",
        "    self.gdict = gdict\n",
        "\n",
        "  def edges(self):\n",
        "    return self.findedges()\n",
        "\n",
        "#find the distincts list of edges\n",
        "  def findedges (self):\n",
        "    edgename = []\n",
        "    for vrtx in self.gdict:\n",
        "      for nxtvrtx in self.gdict[vrtx]:\n",
        "        if {nxtvrtx, vrtx} not in edgename:\n",
        "          edgename.append({vrtx,nxtvrtx})\n",
        "    return edgename\n",
        "\n",
        "\n",
        "#create dictionary with graph elements\n",
        "graph_elements = { \"Direktur Utama\" : [\"Managing Director\"],\n",
        "                    \"Managing Director\" : [\"Direktur Utama\",\"Direktur Pemasasran\",\"Direktur Operasional\",\"Direktur Teknik\",\"Direktur Keuangan\",\"Direktur Personalia\"],\n",
        "                    \"Direktur Pemasaran\" : [\"Managing Director\",\"Manajemen Pemasaran\"],\n",
        "                    \"Direktur Operasional\" : [\"Managing Director\",\"Manajer Cost Control\",\"Manajer Konstruksi\"],\n",
        "                    \"Direktur Teknik\" : [\"Managing Director\",\"Manajer Estimate\",\"Manajer Logistik\"],\n",
        "                    \"Direktur Keuangan\" : [\"Managing Director\",\"Manajer Keuangan\",\"Manajer Pembukuan\"],\n",
        "                    \"Direktur Personalia\" : [\"Managing Director\",\"Manajer Personalia dan Umum\"]\n",
        "                  }\n",
        "\n",
        "g = graph(graph_elements)\n",
        "print(g.edges())  "
      ],
      "execution_count": null,
      "outputs": [
        {
          "output_type": "stream",
          "text": [
            "[{'Managing Director', 'Direktur Utama'}, {'Direktur Pemasasran', 'Managing Director'}, {'Direktur Operasional', 'Managing Director'}, {'Direktur Teknik', 'Managing Director'}, {'Direktur Keuangan', 'Managing Director'}, {'Direktur Personalia', 'Managing Director'}, {'Direktur Pemasaran', 'Managing Director'}, {'Direktur Pemasaran', 'Manajemen Pemasaran'}, {'Direktur Operasional', 'Manajer Cost Control'}, {'Manajer Konstruksi', 'Direktur Operasional'}, {'Direktur Teknik', 'Manajer Estimate'}, {'Manajer Logistik', 'Direktur Teknik'}, {'Direktur Keuangan', 'Manajer Keuangan'}, {'Direktur Keuangan', 'Manajer Pembukuan'}, {'Manajer Personalia dan Umum', 'Direktur Personalia'}]\n"
          ],
          "name": "stdout"
        }
      ]
    }
  ]
}