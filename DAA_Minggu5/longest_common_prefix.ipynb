{
 "cells": [
  {
   "cell_type": "code",
   "execution_count": 9,
   "metadata": {},
   "outputs": [],
   "source": [
    "#dengan divide and conquer\n",
    "def commonPrefix(str1,str2):\n",
    "    n1=len(str1);n2=len(str2)\n",
    "    i,j=0,0\n",
    "    s=\"\"\n",
    "    while i<n1 and j<n2:\n",
    "        if str1[i]==str2[j]:\n",
    "            s+=str1[i]\n",
    "            i+=1\n",
    "            j+=1\n",
    "        else:\n",
    "            break\n",
    "    return s\n"
   ]
  },
  {
   "cell_type": "code",
   "execution_count": 13,
   "metadata": {},
   "outputs": [],
   "source": [
    "def longestCommonPrefix(arr,low,high):\n",
    "    if low==high:\n",
    "        return arr[low]\n",
    "    mid=(low+high)//2\n",
    "    result1=longestCommonPrefix(arr,low,mid)\n",
    "    result2=longestCommonPrefix(arr,mid+1,high)\n",
    "    result=commonPrefix(result1, result2)\n",
    "    return result"
   ]
  },
  {
   "cell_type": "code",
   "execution_count": 14,
   "metadata": {},
   "outputs": [],
   "source": [
    "arr=['geeksforgeeks','geeks','geek','geezer']"
   ]
  },
  {
   "cell_type": "code",
   "execution_count": 15,
   "metadata": {},
   "outputs": [],
   "source": [
    "result=longestCommonPrefix(arr,0,len(arr)-1)"
   ]
  },
  {
   "cell_type": "code",
   "execution_count": 16,
   "metadata": {},
   "outputs": [
    {
     "name": "stdout",
     "output_type": "stream",
     "text": [
      "gee\n"
     ]
    }
   ],
   "source": [
    "print(result)"
   ]
  },
  {
   "cell_type": "code",
   "execution_count": 17,
   "metadata": {},
   "outputs": [
    {
     "name": "stdout",
     "output_type": "stream",
     "text": [
      "ap\n"
     ]
    }
   ],
   "source": [
    "arr=['apple','ape','april']\n",
    "result=longestCommonPrefix(arr,0,len(arr)-1)\n",
    "print(result)"
   ]
  },
  {
   "cell_type": "code",
   "execution_count": null,
   "metadata": {},
   "outputs": [],
   "source": []
  }
 ],
 "metadata": {
  "kernelspec": {
   "display_name": "Python 3",
   "language": "python",
   "name": "python3"
  },
  "language_info": {
   "codemirror_mode": {
    "name": "ipython",
    "version": 3
   },
   "file_extension": ".py",
   "mimetype": "text/x-python",
   "name": "python",
   "nbconvert_exporter": "python",
   "pygments_lexer": "ipython3",
   "version": "3.8.3"
  }
 },
 "nbformat": 4,
 "nbformat_minor": 4
}
