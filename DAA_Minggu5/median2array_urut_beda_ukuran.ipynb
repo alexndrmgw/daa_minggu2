{
 "cells": [
  {
   "cell_type": "code",
   "execution_count": 1,
   "metadata": {},
   "outputs": [],
   "source": [
    "#floor in sorted array\n",
    "\n",
    "def floorSorted(arr,low,high,x):\n",
    "    #print(low,high)\n",
    "    if low>high:\n",
    "        return -1\n",
    "    \n",
    "    if arr[low]>x:\n",
    "        #print(inside)\n",
    "        return -1\n",
    "    \n",
    "    if arr[high]<=x:\n",
    "        return arr[high]\n",
    "    \n",
    "    mid=(low+high)//2\n",
    "    \n",
    "    if arr[mid]==x:\n",
    "        return arr[mid]\n",
    "    \n",
    "    if mid>0 and x>=arr[mid-1] and arr[mid]>x:\n",
    "        return arr[mid-1]\n",
    "    \n",
    "    if mid<high and x<arr[mid+1] and x>=arr[mid]:\n",
    "        return arr[mid]\n",
    "    \n",
    "    if x>arr[mid]:\n",
    "        return floorSorted (arr,mid+1,high,x)\n",
    "    else:\n",
    "        return floorSorted (arr,low,mid+1,x)"
   ]
  },
  {
   "cell_type": "code",
   "execution_count": 2,
   "metadata": {},
   "outputs": [],
   "source": [
    "arr=[1,2,8,10,12,14,19]"
   ]
  },
  {
   "cell_type": "code",
   "execution_count": 3,
   "metadata": {},
   "outputs": [],
   "source": [
    "x=5"
   ]
  },
  {
   "cell_type": "code",
   "execution_count": 4,
   "metadata": {},
   "outputs": [
    {
     "name": "stdout",
     "output_type": "stream",
     "text": [
      "2\n"
     ]
    }
   ],
   "source": [
    "print(floorSorted(arr,0,len(arr)-1,x))"
   ]
  },
  {
   "cell_type": "code",
   "execution_count": null,
   "metadata": {},
   "outputs": [],
   "source": []
  }
 ],
 "metadata": {
  "kernelspec": {
   "display_name": "Python 3",
   "language": "python",
   "name": "python3"
  },
  "language_info": {
   "codemirror_mode": {
    "name": "ipython",
    "version": 3
   },
   "file_extension": ".py",
   "mimetype": "text/x-python",
   "name": "python",
   "nbconvert_exporter": "python",
   "pygments_lexer": "ipython3",
   "version": "3.8.3"
  }
 },
 "nbformat": 4,
 "nbformat_minor": 4
}
