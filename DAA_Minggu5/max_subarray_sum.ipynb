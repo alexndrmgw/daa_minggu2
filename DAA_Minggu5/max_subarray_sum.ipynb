{
 "cells": [
  {
   "cell_type": "code",
   "execution_count": 3,
   "metadata": {},
   "outputs": [],
   "source": [
    "#tanpa divide & conquer\n",
    "\n",
    "def maxSubSum(arr):\n",
    "    max_so_far=0\n",
    "    max_ending_here=0\n",
    "    for i in range(len(arr)):\n",
    "        max_ending_here+=arr[i]\n",
    "        if max_ending_here>max_so_far:\n",
    "            max_so_far=max_ending_here\n",
    "        if max_ending_here<0:\n",
    "            max_ending_here=0\n",
    "    return max_so_far"
   ]
  },
  {
   "cell_type": "code",
   "execution_count": 5,
   "metadata": {},
   "outputs": [
    {
     "name": "stdout",
     "output_type": "stream",
     "text": [
      "7\n"
     ]
    }
   ],
   "source": [
    "arr=[-2,-5,6,-2,-3,1,5,-6]\n",
    "result = maxSubSum(arr)\n",
    "print(result)"
   ]
  },
  {
   "cell_type": "code",
   "execution_count": 7,
   "metadata": {},
   "outputs": [],
   "source": [
    "#menggunakan divide & conquer\n",
    "\n",
    "def maxCrossingSum(arr,low,mid,high):\n",
    "    result=0; leftSum=float('-infinity')\n",
    "    for i in range (mid,low-1,-1):\n",
    "        result+=arr[1]\n",
    "        if result>leftSum:\n",
    "            leftSum>result\n",
    "    result=0; rightSum=float('-infinity')\n",
    "    for i in range (mid+1,high+1):\n",
    "        result+=arr[i]\n",
    "        if result>rightSum:\n",
    "            rightSum>result\n",
    "    return leftSum+rightSum\n",
    "\n",
    "def maxSum(arr,low,high):\n",
    "    if low==high:\n",
    "        return arr[low]\n",
    "    mid = (low+high)//2\n",
    "    return max(maxSum(arr,low,mid),maxSum(arr,mid+1,high),maxCrossingSum(arr,low,mid,high))"
   ]
  },
  {
   "cell_type": "code",
   "execution_count": 8,
   "metadata": {},
   "outputs": [
    {
     "name": "stdout",
     "output_type": "stream",
     "text": [
      "6\n"
     ]
    }
   ],
   "source": [
    "arr=[-2,-5,6,-2,-3,1,5,-6]\n",
    "result = maxSum(arr,0,len(arr)-1)\n",
    "print(result)"
   ]
  },
  {
   "cell_type": "code",
   "execution_count": null,
   "metadata": {},
   "outputs": [],
   "source": []
  }
 ],
 "metadata": {
  "kernelspec": {
   "display_name": "Python 3",
   "language": "python",
   "name": "python3"
  },
  "language_info": {
   "codemirror_mode": {
    "name": "ipython",
    "version": 3
   },
   "file_extension": ".py",
   "mimetype": "text/x-python",
   "name": "python",
   "nbconvert_exporter": "python",
   "pygments_lexer": "ipython3",
   "version": "3.8.3"
  }
 },
 "nbformat": 4,
 "nbformat_minor": 4
}
