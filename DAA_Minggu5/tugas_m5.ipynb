{
 "cells": [
  {
   "cell_type": "markdown",
   "metadata": {},
   "source": [
    "#Merge Sort"
   ]
  },
  {
   "cell_type": "code",
   "execution_count": 53,
   "metadata": {
    "scrolled": true
   },
   "outputs": [
    {
     "name": "stdout",
     "output_type": "stream",
     "text": [
      "Array sebelum diurutkan\n",
      "[21, 5, 9, 16, 30, 7] \n",
      "Array setelah diurutkan dengan Merge Sort : \n",
      "[5, 7, 9, 16, 21, 30] \n"
     ]
    }
   ],
   "source": [
    "def merge_sort(values): \n",
    "  \n",
    "    if len(values)>1: \n",
    "        m = len(values)//2\n",
    "        left = values[:m] \n",
    "        right = values[m:] \n",
    "        left = merge_sort(left) \n",
    "        right = merge_sort(right) \n",
    "  \n",
    "        values =[] \n",
    "  \n",
    "        while len(left)>0 and len(right)>0: \n",
    "            if left[0]<right[0]: \n",
    "                values.append(left[0]) \n",
    "                left.pop(0) \n",
    "            else: \n",
    "                values.append(right[0]) \n",
    "                right.pop(0) \n",
    "  \n",
    "        for x in left: \n",
    "            values.append(x) \n",
    "        for x in right: \n",
    "            values.append(x) \n",
    "                  \n",
    "    return values \n",
    "  \n",
    "arr = [21, 5, 9, 16, 30, 7] \n",
    "print(\"Array sebelum diurutkan\") \n",
    "printList([arr]) \n",
    "arr = merge_sort(arr) \n",
    "print(\"Array setelah diurutkan dengan Merge Sort : \") \n",
    "printList([arr]) "
   ]
  },
  {
   "cell_type": "markdown",
   "metadata": {},
   "source": [
    "#Quick Sort"
   ]
  },
  {
   "cell_type": "code",
   "execution_count": 54,
   "metadata": {},
   "outputs": [
    {
     "name": "stdout",
     "output_type": "stream",
     "text": [
      "Array sebelum diurutkan:\n",
      "[17, 12, 57, 8, 16, 25] \n",
      "Array setelah diurutkan dengan Quick Sort:\n",
      "[8, 12, 16, 17, 25, 57] \n"
     ]
    }
   ],
   "source": [
    "def partition(arr, low, high):\n",
    "    a = (low-1)         \n",
    "    pivot = arr[high]     \n",
    " \n",
    "    for b in range(low, high):\n",
    "\n",
    "        if arr[b] <= pivot:\n",
    " \n",
    "            a = a+1\n",
    "            arr[a], arr[b] = arr[b], arr[a]\n",
    " \n",
    "    arr[a+1], arr[high] = arr[high], arr[a+1]\n",
    "    return (a+1)\n",
    "\n",
    "def quickSort(arr, low, high):\n",
    "    if len(arr) == 1:\n",
    "        return arr\n",
    "    if low < high:\n",
    "\n",
    "        pi = partition(arr, low, high)\n",
    " \n",
    "        quickSort(arr, low, pi-1)\n",
    "        quickSort(arr, pi+1, high)\n",
    " \n",
    "arr = [17, 12, 57, 8, 16, 25]\n",
    "print(\"Array sebelum diurutkan:\")\n",
    "printList([arr])\n",
    "n = len(arr)\n",
    "quickSort(arr, 0, n-1)\n",
    "print(\"Array setelah diurutkan dengan Quick Sort:\")\n",
    "printList([arr])"
   ]
  },
  {
   "cell_type": "code",
   "execution_count": null,
   "metadata": {},
   "outputs": [],
   "source": []
  }
 ],
 "metadata": {
  "kernelspec": {
   "display_name": "Python 3",
   "language": "python",
   "name": "python3"
  },
  "language_info": {
   "codemirror_mode": {
    "name": "ipython",
    "version": 3
   },
   "file_extension": ".py",
   "mimetype": "text/x-python",
   "name": "python",
   "nbconvert_exporter": "python",
   "pygments_lexer": "ipython3",
   "version": "3.8.3"
  }
 },
 "nbformat": 4,
 "nbformat_minor": 4
}
