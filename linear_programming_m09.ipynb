{
  "nbformat": 4,
  "nbformat_minor": 0,
  "metadata": {
    "colab": {
      "name": "Untitled2.ipynb",
      "provenance": [],
      "authorship_tag": "ABX9TyMSkxO5KZRwR2UjWkDkVo6s",
      "include_colab_link": true
    },
    "kernelspec": {
      "name": "python3",
      "display_name": "Python 3"
    }
  },
  "cells": [
    {
      "cell_type": "markdown",
      "metadata": {
        "id": "view-in-github",
        "colab_type": "text"
      },
      "source": [
        "<a href=\"https://colab.research.google.com/github/alexndrmgw/desain_analisis_algo/blob/master/linear_programming_m09.ipynb\" target=\"_parent\"><img src=\"https://colab.research.google.com/assets/colab-badge.svg\" alt=\"Open In Colab\"/></a>"
      ]
    },
    {
      "cell_type": "markdown",
      "metadata": {
        "id": "ipugskqkEv0H"
      },
      "source": [
        "##Linear Numpy"
      ]
    },
    {
      "cell_type": "code",
      "metadata": {
        "id": "NZ-HOYRrEtKn"
      },
      "source": [
        "import numpy as np\n",
        "from scipy.optimize import linprog"
      ],
      "execution_count": 19,
      "outputs": []
    },
    {
      "cell_type": "code",
      "metadata": {
        "id": "F7LfCsM4-MwT"
      },
      "source": [
        "#set the inequality constrain matrix\n",
        "A = np.array([[1,0],[2,3],[1,1],[-1,0],[0,-1]])"
      ],
      "execution_count": 5,
      "outputs": []
    },
    {
      "cell_type": "code",
      "metadata": {
        "id": "X1qQzxGu-rtk"
      },
      "source": [
        "#set the inequality constrain vector\n",
        "b = np.array([16,19,8,0,0])"
      ],
      "execution_count": 6,
      "outputs": []
    },
    {
      "cell_type": "code",
      "metadata": {
        "id": "SYI3WH9c_D6v"
      },
      "source": [
        "#set the coefficients of the linear objective function vector\n",
        "c = np.array([-5,-7])"
      ],
      "execution_count": 7,
      "outputs": []
    },
    {
      "cell_type": "code",
      "metadata": {
        "id": "MFWwWdqW_lVX"
      },
      "source": [
        "#solve linear programming problem\n",
        "res = linprog(c, A_ub=A, b_ub=b)"
      ],
      "execution_count": 8,
      "outputs": []
    },
    {
      "cell_type": "code",
      "metadata": {
        "colab": {
          "base_uri": "https://localhost:8080/"
        },
        "id": "LjIqjtb6AFcS",
        "outputId": "21ba7109-2225-4bff-e964-72ad251a9ad6"
      },
      "source": [
        "#print result\n",
        "print('Optimal Values:', round(res.fun*-1, ndigits=2),\n",
        "      '\\nx values: ', res.x,\n",
        "      '\\nNumber of iteration performed: ', res.nit,\n",
        "      '\\nStatus: ', res.message)"
      ],
      "execution_count": 9,
      "outputs": [
        {
          "output_type": "stream",
          "text": [
            "Optimal Values: 46.0 \n",
            "x values:  [5. 3.] \n",
            "Number of iteration performed:  5 \n",
            "Status:  Optimization terminated successfully.\n"
          ],
          "name": "stdout"
        }
      ]
    },
    {
      "cell_type": "markdown",
      "metadata": {
        "id": "bSphzqTaEop1"
      },
      "source": [
        "##Pulp"
      ]
    },
    {
      "cell_type": "code",
      "metadata": {
        "colab": {
          "base_uri": "https://localhost:8080/"
        },
        "id": "9lelfJJVBuLb",
        "outputId": "aa98bd85-623e-4186-aee0-af7fa1346c36"
      },
      "source": [
        "!pip install pulp==2.3.1"
      ],
      "execution_count": 13,
      "outputs": [
        {
          "output_type": "stream",
          "text": [
            "Collecting pulp==2.3.1\n",
            "\u001b[?25l  Downloading https://files.pythonhosted.org/packages/89/0c/6d80f5f81a92d1733cc5ca180491b8a3cd5839e335627a0046c81b7d3d3d/PuLP-2.3.1-py3-none-any.whl (40.6MB)\n",
            "\u001b[K     |████████████████████████████████| 40.6MB 101kB/s \n",
            "\u001b[?25hCollecting amply>=0.1.2\n",
            "  Downloading https://files.pythonhosted.org/packages/f3/c5/dfa09dd2595a2ab2ab4e6fa7bebef9565812722e1980d04b0edce5032066/amply-0.1.4-py3-none-any.whl\n",
            "Requirement already satisfied: docutils>=0.3 in /usr/local/lib/python3.6/dist-packages (from amply>=0.1.2->pulp==2.3.1) (0.16)\n",
            "Requirement already satisfied: pyparsing in /usr/local/lib/python3.6/dist-packages (from amply>=0.1.2->pulp==2.3.1) (2.4.7)\n",
            "Installing collected packages: amply, pulp\n",
            "Successfully installed amply-0.1.4 pulp-2.3.1\n"
          ],
          "name": "stdout"
        }
      ]
    },
    {
      "cell_type": "code",
      "metadata": {
        "id": "UEHCiYNmCnUK"
      },
      "source": [
        "import pulp"
      ],
      "execution_count": 21,
      "outputs": []
    },
    {
      "cell_type": "code",
      "metadata": {
        "id": "7RbCyH-sCpwK"
      },
      "source": [
        "#instatiate our problem class\n",
        "model = pulp.LpProblem(\"ProfitMaximissingProblem\", pulp.LpMaximize)"
      ],
      "execution_count": 22,
      "outputs": []
    },
    {
      "cell_type": "code",
      "metadata": {
        "id": "YB9BC3WsDMLe"
      },
      "source": [
        "A= pulp.LpVariable('A', lowBound=0, cat='Integer')\n",
        "B= pulp.LpVariable('B', lowBound=0, cat='Integer')"
      ],
      "execution_count": 23,
      "outputs": []
    },
    {
      "cell_type": "code",
      "metadata": {
        "id": "mqvpTQLDD1Po"
      },
      "source": [
        "#objective function'p\n",
        "model += 4200*A + 2800*B, \"Profit\"\n",
        "#constraints\n",
        "model += 3*A + 2*B <=20\n",
        "model += 4*A + 3*B <=30\n",
        "model += 4*A + 3*B <=44"
      ],
      "execution_count": 24,
      "outputs": []
    },
    {
      "cell_type": "code",
      "metadata": {
        "colab": {
          "base_uri": "https://localhost:8080/",
          "height": 35
        },
        "id": "km8asE1WE_ND",
        "outputId": "6648afa1-a967-4a75-9046-a6d4774e63f7"
      },
      "source": [
        "#solve our problem\n",
        "model.solve()\n",
        "pulp.LpStatus[model.status]"
      ],
      "execution_count": 25,
      "outputs": [
        {
          "output_type": "execute_result",
          "data": {
            "application/vnd.google.colaboratory.intrinsic+json": {
              "type": "string"
            },
            "text/plain": [
              "'Optimal'"
            ]
          },
          "metadata": {
            "tags": []
          },
          "execution_count": 25
        }
      ]
    },
    {
      "cell_type": "code",
      "metadata": {
        "colab": {
          "base_uri": "https://localhost:8080/"
        },
        "id": "iN-BM3yMFP0y",
        "outputId": "42db6653-5952-46b7-fbc8-e800307dc93e"
      },
      "source": [
        "print(A.varValue)"
      ],
      "execution_count": 27,
      "outputs": [
        {
          "output_type": "stream",
          "text": [
            "6.0\n"
          ],
          "name": "stdout"
        }
      ]
    },
    {
      "cell_type": "code",
      "metadata": {
        "colab": {
          "base_uri": "https://localhost:8080/"
        },
        "id": "hdse4ZCQFX_5",
        "outputId": "e9ce56e4-a628-41e9-82df-7fcefd8f9483"
      },
      "source": [
        "print(B.varValue)"
      ],
      "execution_count": 28,
      "outputs": [
        {
          "output_type": "stream",
          "text": [
            "1.0\n"
          ],
          "name": "stdout"
        }
      ]
    },
    {
      "cell_type": "code",
      "metadata": {
        "colab": {
          "base_uri": "https://localhost:8080/"
        },
        "id": "KdEAvmlxFbHL",
        "outputId": "ccda88fb-14c5-4358-d99e-f40a9859d180"
      },
      "source": [
        "print(pulp.value(model.objective))"
      ],
      "execution_count": 29,
      "outputs": [
        {
          "output_type": "stream",
          "text": [
            "28000.0\n"
          ],
          "name": "stdout"
        }
      ]
    }
  ]
}