{
  "nbformat": 4,
  "nbformat_minor": 0,
  "metadata": {
    "colab": {
      "name": "fraud_analytic_m14.ipynb",
      "provenance": [],
      "authorship_tag": "ABX9TyPKD3aVGvYhYNOC+c+KAIK/",
      "include_colab_link": true
    },
    "kernelspec": {
      "name": "python3",
      "display_name": "Python 3"
    }
  },
  "cells": [
    {
      "cell_type": "markdown",
      "metadata": {
        "id": "view-in-github",
        "colab_type": "text"
      },
      "source": [
        "<a href=\"https://colab.research.google.com/github/alexndrmgw/desain_analisis_algo/blob/master/fraud_analytic_m14.ipynb\" target=\"_parent\"><img src=\"https://colab.research.google.com/assets/colab-badge.svg\" alt=\"Open In Colab\"/></a>"
      ]
    },
    {
      "cell_type": "markdown",
      "metadata": {
        "id": "OGuwH5dGQNKn"
      },
      "source": [
        "##Fraud Analytics"
      ]
    },
    {
      "cell_type": "code",
      "metadata": {
        "colab": {
          "base_uri": "https://localhost:8080/"
        },
        "id": "FBdsm9lJEviF",
        "outputId": "30b180b8-9f41-4c64-ce8e-d63bb0bec3fa"
      },
      "source": [
        "!pip install networkx"
      ],
      "execution_count": 7,
      "outputs": [
        {
          "output_type": "stream",
          "text": [
            "Requirement already satisfied: networkx in /usr/local/lib/python3.6/dist-packages (2.5)\n",
            "Requirement already satisfied: decorator>=4.3.0 in /usr/local/lib/python3.6/dist-packages (from networkx) (4.4.2)\n"
          ],
          "name": "stdout"
        }
      ]
    },
    {
      "cell_type": "code",
      "metadata": {
        "id": "e6_JZpqRAYUx"
      },
      "source": [
        "import networkx as nx\r\n",
        "import matplotlib.pyplot as plt"
      ],
      "execution_count": 8,
      "outputs": []
    },
    {
      "cell_type": "code",
      "metadata": {
        "id": "51OXTKZdBQby"
      },
      "source": [
        "vertices = range(1,10)\r\n",
        "edges = [(7,2),(2,3),(7,4),(4,5),(7,3),(7,5),(1,6),(1,7),(2,8),(2,9)]"
      ],
      "execution_count": 9,
      "outputs": []
    },
    {
      "cell_type": "code",
      "metadata": {
        "id": "-2RHzFtpBqxI"
      },
      "source": [
        "G = nx.Graph()"
      ],
      "execution_count": 10,
      "outputs": []
    },
    {
      "cell_type": "code",
      "metadata": {
        "id": "FwOentZWCPW5"
      },
      "source": [
        "G.add_nodes_from(vertices)\r\n",
        "G.add_edges_from(edges)\r\n",
        "pos=nx.spring_layout(G)"
      ],
      "execution_count": 11,
      "outputs": []
    },
    {
      "cell_type": "code",
      "metadata": {
        "colab": {
          "base_uri": "https://localhost:8080/",
          "height": 401
        },
        "id": "vFY0gBzjCrbT",
        "outputId": "8e8f0a18-2117-4325-b82e-5858d7f925ad"
      },
      "source": [
        "nx.draw_networkx_nodes(G,pos,nodelist=[1,4,3,8,9],label=True,node_color='g',node_size=1300)\r\n",
        "\r\n",
        "nx.draw_networkx_nodes(G,pos,nodelist=[2,5,6,7],label=True,node_color='r',node_size=1300)\r\n",
        "\r\n",
        "nx.draw_networkx_edges(G,pos,edges,width=3,alpha=0.5,edge_color='b')\r\n",
        "labels={}\r\n",
        "labels[1]=r'1 NF'\r\n",
        "labels[2]=r'2 F'\r\n",
        "labels[3]=r'3 NF'\r\n",
        "labels[4]=r'4 NF'\r\n",
        "labels[5]=r'5 F'\r\n",
        "labels[6]=r'6 F'\r\n",
        "labels[7]=r'7 NF'\r\n",
        "labels[8]=r'8 NF'\r\n",
        "labels[9]=r'9 NF'\r\n",
        "\r\n",
        "nx.draw_networkx_labels(G,pos,labels,font_size=16)"
      ],
      "execution_count": 30,
      "outputs": [
        {
          "output_type": "execute_result",
          "data": {
            "text/plain": [
              "{1: Text(-0.5849674334254039, -0.43410678941122355, '1 NF'),\n",
              " 2: Text(0.5125102793301795, 0.11842618299986639, '2 F'),\n",
              " 3: Text(0.231916686880383, -0.12821081471917803, '3 NF'),\n",
              " 4: Text(-0.3599915488781747, 0.48398028816316774, '4 NF'),\n",
              " 5: Text(-0.576330805491411, 0.2827148820528185, '5 F'),\n",
              " 6: Text(-0.9325674902582294, -0.7910917507857651, '6 F'),\n",
              " 7: Text(-0.15688781354401535, 0.03529419568822192, '7 NF'),\n",
              " 8: Text(0.866318125386672, 0.48639633990649256, '8 NF'),\n",
              " 9: Text(1.0, -0.05340253389440083, '9 NF')}"
            ]
          },
          "metadata": {
            "tags": []
          },
          "execution_count": 30
        },
        {
          "output_type": "display_data",
          "data": {
            "image/png": "[encoded data removed]",
            "text/plain": [
              "<Figure size 432x288 with 1 Axes>"
            ]
          },
          "metadata": {
            "tags": []
          }
        }
      ]
    }
  ]
}